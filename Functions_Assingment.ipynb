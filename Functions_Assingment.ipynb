{
 "cells": [
  {
   "cell_type": "code",
   "execution_count": 1,
   "id": "9884cfe4-1c1c-4b35-b6e5-6c0190f777a0",
   "metadata": {},
   "outputs": [],
   "source": [
    "# 1.What is the difference between a function and a method in Python?"
   ]
  },
  {
   "cell_type": "code",
   "execution_count": 3,
   "id": "01504e28-89b1-4cf9-a061-37554d2516d2",
   "metadata": {},
   "outputs": [],
   "source": [
    "# Functions are standalone blocks of code that can be called from anywhere. They are defined outside of classes."
   ]
  },
  {
   "cell_type": "code",
   "execution_count": 5,
   "id": "a4fb61e9-f864-4b85-ae49-df865950cf70",
   "metadata": {},
   "outputs": [
    {
     "name": "stdout",
     "output_type": "stream",
     "text": [
      "Hello, Ashish!\n"
     ]
    }
   ],
   "source": [
    "def greet(name):\n",
    "    print(\"Hello, \"+name+\"!\")\n",
    "greet(\"Ashish\")"
   ]
  },
  {
   "cell_type": "code",
   "execution_count": 7,
   "id": "82530abd-0bc5-4c3b-91f8-4cdb78b552f1",
   "metadata": {},
   "outputs": [],
   "source": [
    "# Methods are functions that are associated with a specific object and can access and modify its attributes. They are defined within a class."
   ]
  },
  {
   "cell_type": "code",
   "execution_count": 9,
   "id": "f5ec5ffb-dbbb-4173-aa87-298f90624ab4",
   "metadata": {},
   "outputs": [
    {
     "name": "stdout",
     "output_type": "stream",
     "text": [
      "Hello, my name is Bob\n"
     ]
    }
   ],
   "source": [
    "class Person:\n",
    "    def __init__(self, name):\n",
    "        self.name = name\n",
    "\n",
    "    def greet(self):\n",
    "        print(\"Hello, my name is \" + self.name)\n",
    "\n",
    "person1 = Person(\"Bob\")\n",
    "person1.greet()"
   ]
  },
  {
   "cell_type": "code",
   "execution_count": 11,
   "id": "538d6988-ed2f-4280-b3bb-dda907ab6bb8",
   "metadata": {},
   "outputs": [],
   "source": [
    "# Key differnce between Functions and Methods:\n",
    "# Scope: Functions have global scope, while methods have local scope within their class.\n",
    "# Arguments: Functions require explicit arguments, while methods have an implicit self argument.\n",
    "# Access to attributes: Methods can access the attributes of their object, while functions cannot."
   ]
  },
  {
   "cell_type": "code",
   "execution_count": null,
   "id": "ad8bee3a-9acd-4c79-9f6c-182665442ec0",
   "metadata": {},
   "outputs": [],
   "source": []
  },
  {
   "cell_type": "code",
   "execution_count": 13,
   "id": "ed1bd878-8bfb-4097-8261-7895c1b49851",
   "metadata": {},
   "outputs": [],
   "source": [
    "# 2. Explain the concept of function arguments and parameters in Python."
   ]
  },
  {
   "cell_type": "code",
   "execution_count": 15,
   "id": "a46a925f-8429-4fd9-8e95-cf79745b02d1",
   "metadata": {},
   "outputs": [],
   "source": [
    "# In Python, a function is a block of code that performs a specific task. When you call a function, you often provide it with some input values, which \n",
    "# are known as arguments. These arguments are then assigned to parameters defined within the function's definition.\n",
    "\n",
    "# Parameters:\n",
    "\n",
    "# These are variables declared within the parentheses of a function definition.\n",
    "# They act as placeholders for the values that will be passed to the function.\n",
    "# When the function is called, the arguments you provide are assigned to these parameters. \n",
    "\n",
    "\n",
    "# Arguments:\n",
    "\n",
    "# These are the actual values that you pass to a function when you call it.\n",
    "# They can be literals, variables, or expressions."
   ]
  },
  {
   "cell_type": "code",
   "execution_count": 17,
   "id": "b338b103-7618-46ca-80c9-4c57cd62f75d",
   "metadata": {},
   "outputs": [
    {
     "name": "stdout",
     "output_type": "stream",
     "text": [
      "Hello, Alice!\n"
     ]
    }
   ],
   "source": [
    "def greet(name):\n",
    "    print(\"Hello, \" + name + \"!\")\n",
    "\n",
    "greet(\"Alice\")  # Here, \"Alice\" is the argument"
   ]
  },
  {
   "cell_type": "code",
   "execution_count": 19,
   "id": "f2d37d81-fec0-45e0-beaa-28257eb8ef81",
   "metadata": {},
   "outputs": [],
   "source": [
    "# In the above example:\n",
    "\n",
    "# 'greet' is the function name.\n",
    "# 'name' is the parameter defined within the function.\n",
    "# \"Alice\" is the argument passed to the function."
   ]
  },
  {
   "cell_type": "code",
   "execution_count": null,
   "id": "f1ec74e5-9d64-436b-b2d9-ba17decc750e",
   "metadata": {},
   "outputs": [],
   "source": []
  },
  {
   "cell_type": "code",
   "execution_count": 29,
   "id": "906859b3-082e-4d65-8f55-b1edc990f0f2",
   "metadata": {},
   "outputs": [],
   "source": [
    "# 3. What are the different ways to define and call a function in Python?"
   ]
  },
  {
   "cell_type": "code",
   "execution_count": 39,
   "id": "2c36d3b1-d8ea-4ea8-8d5a-03487b19166a",
   "metadata": {},
   "outputs": [],
   "source": [
    "# Basic Syntax:\n",
    "# def function_name(parameters):\n",
    "#     # Function body (statements)\n",
    "#     return value  # Optional return statement"
   ]
  },
  {
   "cell_type": "code",
   "execution_count": 27,
   "id": "9cbb0843-130e-43ca-a8bd-2e0fe33f853d",
   "metadata": {},
   "outputs": [
    {
     "name": "stdout",
     "output_type": "stream",
     "text": [
      "Hello, Ashish!\n"
     ]
    }
   ],
   "source": [
    "# a. Default Parameter Values:\n",
    "def greet(name, greeting=\"Hello\"):\n",
    "    print(f\"{greeting}, {name}!\")\n",
    "\n",
    "greet(\"Ashish\")"
   ]
  },
  {
   "cell_type": "code",
   "execution_count": 29,
   "id": "5c5222af-0d4a-438b-969b-d9d493850542",
   "metadata": {},
   "outputs": [
    {
     "name": "stdout",
     "output_type": "stream",
     "text": [
      "50\n"
     ]
    }
   ],
   "source": [
    "# b. Keyword Arguments:\n",
    "def calculate_area(length, width):\n",
    "    return length * width\n",
    "\n",
    "area = calculate_area(width=5, length=10)\n",
    "print(area)"
   ]
  },
  {
   "cell_type": "code",
   "execution_count": 31,
   "id": "b3c4980f-c449-4252-be98-f8a77df0ddbc",
   "metadata": {},
   "outputs": [
    {
     "name": "stdout",
     "output_type": "stream",
     "text": [
      "15\n"
     ]
    }
   ],
   "source": [
    "# c. Arbitrary Number of Arguments:\n",
    "# i. using *args\n",
    "def sum_numbers(*args):\n",
    "    result = 0\n",
    "    for num in args:\n",
    "        result += num\n",
    "    return result\n",
    "\n",
    "total = sum_numbers(1, 2, 3, 4, 5)\n",
    "print(total)"
   ]
  },
  {
   "cell_type": "code",
   "execution_count": 23,
   "id": "276e1d5c-b5b7-41a7-90eb-eba1a6a5e582",
   "metadata": {},
   "outputs": [
    {
     "name": "stdout",
     "output_type": "stream",
     "text": [
      "name: Alice\n",
      "age: 30\n",
      "city: New York\n"
     ]
    }
   ],
   "source": [
    "# ii. Using **kwargs:\n",
    "def print_person(**kwargs):\n",
    "    for key, value in kwargs.items():\n",
    "        print(f\"{key}: {value}\")\n",
    "\n",
    "person_info = {\"name\": \"Alice\", \"age\": 30, \"city\": \"New York\"}\n",
    "print_person(**person_info) #By using **person_info, we avoid having to manually pass each key-value pair as a separate argument, making the function call more concise and readable."
   ]
  },
  {
   "cell_type": "code",
   "execution_count": 33,
   "id": "84cd9194-fc38-4dbd-93e3-bdd7c38a94cb",
   "metadata": {},
   "outputs": [
    {
     "name": "stdout",
     "output_type": "stream",
     "text": [
      "8\n"
     ]
    }
   ],
   "source": [
    "# d. Nested Functions\n",
    "def outer_function(x):\n",
    "    def inner_function(y):\n",
    "        return x + y\n",
    "    return inner_function(5)\n",
    "\n",
    "result = outer_function(3)\n",
    "print(result)"
   ]
  },
  {
   "cell_type": "code",
   "execution_count": 37,
   "id": "0a896a8e-cbe1-44ec-833d-5a9035da80f1",
   "metadata": {},
   "outputs": [
    {
     "name": "stdout",
     "output_type": "stream",
     "text": [
      "8\n"
     ]
    }
   ],
   "source": [
    "# e. Lambda Functions\n",
    "add = lambda x, y: x + y\n",
    "result = add(3, 5)\n",
    "print(result)"
   ]
  },
  {
   "cell_type": "code",
   "execution_count": null,
   "id": "0ec90e6c-6843-468d-9227-010a79f6e4e7",
   "metadata": {},
   "outputs": [],
   "source": []
  },
  {
   "cell_type": "code",
   "execution_count": 41,
   "id": "a82d5b09-ea32-4a32-9800-eac5e334df0e",
   "metadata": {},
   "outputs": [],
   "source": [
    "# 4. What is the purpose of the `return` statement in a Python function?"
   ]
  },
  {
   "cell_type": "code",
   "execution_count": 43,
   "id": "a166a4d2-14b9-4ff7-b956-3a91d980e8fc",
   "metadata": {},
   "outputs": [],
   "source": [
    "# The return statement in Python is used to:\n",
    "\n",
    "# Exit the function: When the return statement is executed, the function immediately stops executing and returns control to the calling code.\n",
    "\n",
    "# Send back a value: The return statement can be used to send a value back to the caller. This value can then be used in subsequent calculations or \n",
    "# stored in variables."
   ]
  },
  {
   "cell_type": "code",
   "execution_count": 45,
   "id": "57408215-81db-42ec-a278-6698699469a7",
   "metadata": {},
   "outputs": [
    {
     "name": "stdout",
     "output_type": "stream",
     "text": [
      "8\n"
     ]
    }
   ],
   "source": [
    "# for example:\n",
    "def add(x, y):\n",
    "    return x + y\n",
    "\n",
    "result = add(3, 5)\n",
    "print(result)"
   ]
  },
  {
   "cell_type": "code",
   "execution_count": 47,
   "id": "2b9fbe4c-7221-4085-b474-ed9b9346c6f8",
   "metadata": {},
   "outputs": [],
   "source": [
    "# In this example:\n",
    "\n",
    "# The add function takes two numbers as input and returns their sum.\n",
    "# The return x + y statement calculates the sum and sends it back to the caller.\n",
    "# The result is then stored in the result variable and printed."
   ]
  },
  {
   "cell_type": "code",
   "execution_count": null,
   "id": "f00036cf-735b-4abc-996e-d8469bd0d486",
   "metadata": {},
   "outputs": [],
   "source": []
  },
  {
   "cell_type": "code",
   "execution_count": 49,
   "id": "d00a566c-f87e-47e8-8cd0-9b5712a1e8a7",
   "metadata": {},
   "outputs": [],
   "source": [
    "# 5.  What are iterators in Python and how do they differ from iterables?"
   ]
  },
  {
   "cell_type": "code",
   "execution_count": 51,
   "id": "ea42769f-ad50-4098-a8fa-f5888493c408",
   "metadata": {},
   "outputs": [],
   "source": [
    "# Iterators are objects that represent a sequence of values and provide a way to access those values one at a time.\n",
    "\n",
    "# Iterators have two methods:\n",
    "# __next__(): Returns the next value in the sequence.\n",
    "# __iter__(): Returns the iterator itself (for compatibility).\n",
    "\n",
    "# When you call next() on an iterator, it returns the next value in the sequence. If there are no more values, it raises a StopIteration exception."
   ]
  },
  {
   "cell_type": "code",
   "execution_count": 53,
   "id": "695b2476-455b-4244-be10-d6c1ee18a7c4",
   "metadata": {},
   "outputs": [],
   "source": [
    "# Difference between iterators and iterables are :\n",
    "# a) Defination:\n",
    "#     i)  iterables: Objects that can be iterated over\n",
    "#     ii) iterators: Objects that represent a sequence of values\n",
    "\n",
    "# b) Methods:\n",
    "#     i)  iterables: __iter__\n",
    "#     ii) iterators: __iter__ and __next__\n",
    "\n",
    "# c) Iteration:\n",
    "#     i)  iterables: Use for loops\n",
    "#     ii) iterators: Use next() and StopIteration"
   ]
  },
  {
   "cell_type": "code",
   "execution_count": null,
   "id": "b6de5a9c-fbe1-44f4-a677-1ce51e044605",
   "metadata": {},
   "outputs": [],
   "source": []
  },
  {
   "cell_type": "code",
   "execution_count": 55,
   "id": "ab9cd927-300d-4087-88e0-1ddbc03ef0fd",
   "metadata": {},
   "outputs": [],
   "source": [
    "# 6. Explain the concept of generators in Python and how they are defined."
   ]
  },
  {
   "cell_type": "code",
   "execution_count": 57,
   "id": "3776ad25-abcc-4542-80c7-55bf5f675683",
   "metadata": {},
   "outputs": [],
   "source": [
    "# Generators are a special type of function in Python that return an iterator. Unlike regular functions that return a single value at a time, \n",
    "# generators return a sequence of values one at a time using the yield keyword. This allows for efficient memory usage, especially when dealing with \n",
    "# large datasets."
   ]
  },
  {
   "cell_type": "code",
   "execution_count": 59,
   "id": "273dee65-4a9d-4df8-b463-1746f6c90c0e",
   "metadata": {},
   "outputs": [
    {
     "name": "stdout",
     "output_type": "stream",
     "text": [
      "0\n",
      "1\n",
      "2\n",
      "3\n",
      "4\n"
     ]
    }
   ],
   "source": [
    "# Defining a Generator:\n",
    "\n",
    "# To define a generator, you use the yield keyword instead of return within a function. Here's a basic example:\n",
    "def count_up(n):\n",
    "    for i in range(n):\n",
    "        yield i\n",
    "\n",
    "for number in count_up(5):\n",
    "    print(number)"
   ]
  },
  {
   "cell_type": "code",
   "execution_count": 61,
   "id": "e3bec0bc-80ad-4d95-ba0e-758d0c8e1ec0",
   "metadata": {},
   "outputs": [],
   "source": [
    "# How Generators Work:\n",
    "\n",
    "# Creation: When you call a generator function, it returns a generator object.\n",
    "\n",
    "# Execution: When you iterate over the generator object using a for loop or the next() function, the generator function starts executing.\n",
    "\n",
    "# Yielding: Whenever the yield keyword is encountered, the current state of the generator is paused, and the value after yield is returned. The \n",
    "# generator's state is saved, allowing it to resume execution from the same point when called again.\n",
    "\n",
    "# Resuming: When you call next() on the generator again, the generator resumes execution from where it left off and continues until it encounters \n",
    "# another yield or reaches the end of the function."
   ]
  },
  {
   "cell_type": "code",
   "execution_count": null,
   "id": "79ffb6b3-ccc1-4f92-a339-7e944fa10e2b",
   "metadata": {},
   "outputs": [],
   "source": []
  },
  {
   "cell_type": "code",
   "execution_count": 63,
   "id": "08a901ee-5eef-434a-a382-085cd1d0e474",
   "metadata": {},
   "outputs": [],
   "source": [
    "# 7. What are the advantages of using generators over regular functions?"
   ]
  },
  {
   "cell_type": "code",
   "execution_count": 65,
   "id": "d1fcfec9-8608-4f28-8ca0-ab77b3f94249",
   "metadata": {},
   "outputs": [],
   "source": [
    "# Memory Efficiency:\n",
    "# Generators avoid creating and storing the entire sequence in memory at once, making them suitable for large datasets. This can prevent memory errors \n",
    "# and improve performance.\n",
    "\n",
    "# Lazy Evaluation:\n",
    "# Generators produce values only when requested, a process known as lazy evaluation. This can be beneficial when dealing with infinite sequences or \n",
    "# sequences that are computationally expensive to generate.\n",
    "\n",
    "# Concise Syntax:\n",
    "# The yield keyword provides a concise and readable way to define iterators, making generator functions more compact than their equivalent regular \n",
    "# function implementations.\n",
    "\n",
    "# Improved Performance:\n",
    "# In certain scenarios, generators can provide performance improvements by avoiding unnecessary computations and memory allocations."
   ]
  },
  {
   "cell_type": "code",
   "execution_count": null,
   "id": "08f39f8e-f117-4d9f-bb1b-6cfa84bc5739",
   "metadata": {},
   "outputs": [],
   "source": []
  },
  {
   "cell_type": "code",
   "execution_count": 67,
   "id": "1d902d70-53be-4805-81b3-51658c1dc1d2",
   "metadata": {},
   "outputs": [],
   "source": [
    "# 8. What is a lambda function in Python and when is it typically used?"
   ]
  },
  {
   "cell_type": "code",
   "execution_count": 69,
   "id": "44b2557c-463b-41da-a326-f17176694ebc",
   "metadata": {},
   "outputs": [],
   "source": [
    "# Lambda functions, also known as anonymous functions, are a concise way to define functions without giving them a name in Python. They are often used \n",
    "# for simple, one-time operations or as arguments to higher-order functions.\n",
    "\n",
    "# Syntax:\n",
    "# lambda arguments: expression"
   ]
  },
  {
   "cell_type": "code",
   "execution_count": 71,
   "id": "c0dc647e-06d0-41c6-8edb-b1f2977430f5",
   "metadata": {},
   "outputs": [
    {
     "name": "stdout",
     "output_type": "stream",
     "text": [
      "8\n"
     ]
    }
   ],
   "source": [
    "# Example:\n",
    "add = lambda x, y: x + y\n",
    "result = add(3, 5)\n",
    "print(result)"
   ]
  },
  {
   "cell_type": "code",
   "execution_count": 77,
   "id": "2c244272-0658-451c-850c-d28c64a1b702",
   "metadata": {},
   "outputs": [
    {
     "name": "stdout",
     "output_type": "stream",
     "text": [
      "[1, 4, 9, 16, 25]\n"
     ]
    }
   ],
   "source": [
    "# Common Use Cases:\n",
    "\n",
    "# As Arguments to Higher-Order Functions:\n",
    "# Functions that take other functions as arguments, such as map, filter, and reduce, often use lambda functions for concise and inline definitions.\n",
    "numbers = [1, 2, 3, 4, 5]\n",
    "squared_numbers = list(map(lambda x: x**2, numbers))\n",
    "print(squared_numbers)"
   ]
  },
  {
   "cell_type": "code",
   "execution_count": 79,
   "id": "e1116791-569e-4183-bd73-c8793b62110f",
   "metadata": {},
   "outputs": [
    {
     "name": "stdout",
     "output_type": "stream",
     "text": [
      "10\n"
     ]
    }
   ],
   "source": [
    "# Simple, One-Time Operations:\n",
    "# When you need a quick and temporary function for a specific task, a lambda function can be convenient.\n",
    "result = (lambda x: x * 2)(5)\n",
    "print(result)"
   ]
  },
  {
   "cell_type": "code",
   "execution_count": 83,
   "id": "00cf7c9f-c093-4b52-8384-83828fc8afd1",
   "metadata": {},
   "outputs": [
    {
     "name": "stdout",
     "output_type": "stream",
     "text": [
      "['apple', 'banana', 'cherry']\n"
     ]
    }
   ],
   "source": [
    "# Key Functions in Sorting and Other Algorithms:\n",
    "# Lambda functions can be used as key functions in sorting algorithms like sorted() to specify custom sorting criteria.\n",
    "fruits = [\"apple\", \"banana\", \"cherry\"]\n",
    "sorted_fruits = sorted(fruits, key=lambda x: len(x))\n",
    "print(sorted_fruits)"
   ]
  },
  {
   "cell_type": "code",
   "execution_count": null,
   "id": "eb4d1887-a528-4891-98eb-0343cfd10bd1",
   "metadata": {},
   "outputs": [],
   "source": []
  },
  {
   "cell_type": "code",
   "execution_count": 85,
   "id": "9f585aca-f0af-4cef-9381-3bb84fdcfe71",
   "metadata": {},
   "outputs": [],
   "source": [
    "# 9.  Explain the purpose and usage of the `map()` function in Python."
   ]
  },
  {
   "cell_type": "code",
   "execution_count": 87,
   "id": "73d608d6-44bb-4661-8be5-6ef871067276",
   "metadata": {},
   "outputs": [],
   "source": [
    "# The map() function in Python is a built-in function that applies a given function to each item of an iterable (like a list, tuple, or dictionary) and \n",
    "# returns a new iterable containing the results.\n",
    "\n",
    "# Purpose:\n",
    "# To apply a function to every element of an iterable efficiently.\n",
    "\n",
    "# To create new sequences based on existing ones by transforming each element.\n",
    "\n",
    "# Syntax:\n",
    "# map(function, iterable)"
   ]
  },
  {
   "cell_type": "code",
   "execution_count": 91,
   "id": "8694324e-9e15-4357-a3e4-2ef6a8c216eb",
   "metadata": {},
   "outputs": [
    {
     "name": "stdout",
     "output_type": "stream",
     "text": [
      "[1, 4, 9, 16, 25]\n"
     ]
    }
   ],
   "source": [
    "# Example:\n",
    "numbers = [1, 2, 3, 4, 5]\n",
    "squared_numbers = list(map(lambda x: x**2, numbers))\n",
    "print(squared_numbers)"
   ]
  },
  {
   "cell_type": "code",
   "execution_count": 93,
   "id": "b5dc0796-4f90-4063-980b-3f8629d57871",
   "metadata": {},
   "outputs": [
    {
     "name": "stdout",
     "output_type": "stream",
     "text": [
      "['APPLE', 'BANANA', 'CHERRY']\n"
     ]
    }
   ],
   "source": [
    "# Convert a list of strings to uppercase\n",
    "strings = [\"apple\", \"banana\", \"cherry\"]\n",
    "uppercase_strings = list(map(str.upper, strings))\n",
    "print(uppercase_strings)"
   ]
  },
  {
   "cell_type": "code",
   "execution_count": 95,
   "id": "429963e1-0ba5-4f21-a57a-140050df5831",
   "metadata": {},
   "outputs": [
    {
     "name": "stdout",
     "output_type": "stream",
     "text": [
      "{'a': 1, 'b': 4, 'c': 9}\n"
     ]
    }
   ],
   "source": [
    "# Apply a function to a dictionary's values\n",
    "my_dict = {\"a\": 1, \"b\": 2, \"c\": 3}\n",
    "squared_values = dict(map(lambda item: (item[0], item[1]**2), my_dict.items()))\n",
    "print(squared_values)"
   ]
  },
  {
   "cell_type": "code",
   "execution_count": null,
   "id": "92d24326-ee49-4bd9-b3b5-b0679137d579",
   "metadata": {},
   "outputs": [],
   "source": []
  },
  {
   "cell_type": "code",
   "execution_count": 97,
   "id": "c1fa4968-0aa2-4f33-b7d3-15aaba625de1",
   "metadata": {},
   "outputs": [],
   "source": [
    "# 10. What is the difference between `map()`, `reduce()`, and `filter()` functions in Python?"
   ]
  },
  {
   "cell_type": "code",
   "execution_count": 101,
   "id": "30dec3f3-c68c-435a-af7b-fed80bdaf680",
   "metadata": {},
   "outputs": [
    {
     "name": "stdout",
     "output_type": "stream",
     "text": [
      "[1, 4, 9, 16, 25]\n"
     ]
    }
   ],
   "source": [
    "# map()\n",
    "# Purpose: Applies a function to every element of an iterable and returns a new iterable.\n",
    "# Syntax: map(function, iterable)\n",
    "# Example:\n",
    "numbers = [1, 2, 3, 4, 5]\n",
    "squared_numbers = list(map(lambda x: x**2, numbers))\n",
    "print(squared_numbers)"
   ]
  },
  {
   "cell_type": "code",
   "execution_count": 103,
   "id": "80d31805-93a5-4d3c-a87d-c97726281a3b",
   "metadata": {},
   "outputs": [
    {
     "name": "stdout",
     "output_type": "stream",
     "text": [
      "120\n"
     ]
    }
   ],
   "source": [
    "# reduce()\n",
    "# Purpose: Applies a function to an iterable, reducing it to a single value.\n",
    "# Syntax: reduce(function, iterable)\n",
    "# Example:\n",
    "from functools import reduce\n",
    "numbers = [1, 2, 3, 4, 5]\n",
    "product = reduce(lambda x, y: x * y, numbers)\n",
    "print(product)"
   ]
  },
  {
   "cell_type": "code",
   "execution_count": 111,
   "id": "0cf26f5a-d35e-4072-9bf3-22d29e368be6",
   "metadata": {},
   "outputs": [
    {
     "name": "stdout",
     "output_type": "stream",
     "text": [
      "[2, 4]\n"
     ]
    }
   ],
   "source": [
    "# filter()\n",
    "# Purpose: Creates a new iterable containing elements from the original iterable that satisfy a given condition.\n",
    "# Syntax: filter(function, iterable)\n",
    "# Example:\n",
    "numbers = [1, 2, 3, 4, 5]\n",
    "even_numbers = list(filter(lambda x: x % 2 == 0, numbers))\n",
    "print(even_numbers)"
   ]
  },
  {
   "cell_type": "code",
   "execution_count": 107,
   "id": "547085eb-eb3f-4e34-a7c9-088dc1919a92",
   "metadata": {},
   "outputs": [],
   "source": [
    "# Function\t                            Purpose\t                                          Return Value\n",
    "# map()\t                       Applies a function to each element\t                      New iterable\n",
    "# reduce()\t                   Reduces an iterable to a single value\t                  Single value\n",
    "# filter()\t                   Filters elements based on a condition\t                  New iterable"
   ]
  },
  {
   "cell_type": "code",
   "execution_count": null,
   "id": "23d95daa-1eaa-4a83-a260-4b5a39efce9c",
   "metadata": {},
   "outputs": [],
   "source": []
  },
  {
   "cell_type": "code",
   "execution_count": 109,
   "id": "ab648715-b5bd-4ada-8331-f436a3fa2468",
   "metadata": {},
   "outputs": [],
   "source": [
    "# 11. Using pen & Paper write the internal mechanism for sum operation using  reduce function on this given\n",
    "# list:[47,11,42,13]; "
   ]
  },
  {
   "cell_type": "code",
   "execution_count": 113,
   "id": "bb09eb1f-60bc-464a-a604-6334a2e69c5b",
   "metadata": {},
   "outputs": [
    {
     "data": {
      "text/plain": [
       "113"
      ]
     },
     "execution_count": 113,
     "metadata": {},
     "output_type": "execute_result"
    }
   ],
   "source": [
    "l=[47,11,42,13]\n",
    "sum=reduce(lambda x,y:x+y,l)\n",
    "sum"
   ]
  },
  {
   "attachments": {
    "dbf5a65a-a495-4f06-adee-2fb0756f81df.jpeg": {
     "image/jpeg": "[encoded data removed]"
    }
   },
   "cell_type": "markdown",
   "id": "93510570-3198-4bb7-8fb2-0eb43cdfa041",
   "metadata": {},
   "source": [
    "![WhatsApp Image 2024-09-20 at 5.00.37 PM (1).jpeg](attachment:dbf5a65a-a495-4f06-adee-2fb0756f81df.jpeg)"
   ]
  },
  {
   "attachments": {
    "7511cc1d-c846-4f5e-bad2-9efee3612732.jpeg": {
     "image/jpeg": "[encoded data removed]"
    }
   },
   "cell_type": "markdown",
   "id": "7369e3ad-40db-483f-997d-cd608bf4d026",
   "metadata": {},
   "source": [
    "![WhatsApp Image 2024-09-20 at 5.00.37 PM.jpeg](attachment:7511cc1d-c846-4f5e-bad2-9efee3612732.jpeg)"
   ]
  },
  {
   "cell_type": "code",
   "execution_count": null,
   "id": "cb684110-024f-4af1-a8a1-173e3e210a74",
   "metadata": {},
   "outputs": [],
   "source": []
  },
  {
   "cell_type": "code",
   "execution_count": null,
   "id": "b1bbe90d-b35e-4349-9261-1f2446c2bbcc",
   "metadata": {},
   "outputs": [],
   "source": []
  },
  {
   "cell_type": "code",
   "execution_count": null,
   "id": "0dd9a0a1-619b-4247-a2ee-0618420b4e68",
   "metadata": {},
   "outputs": [],
   "source": []
  },
  {
   "cell_type": "code",
   "execution_count": null,
   "id": "cb3e90db-0460-43cf-8d99-21b75b194172",
   "metadata": {},
   "outputs": [],
   "source": []
  },
  {
   "cell_type": "code",
   "execution_count": null,
   "id": "81a14d21-9610-4cbd-8037-ad5256acc498",
   "metadata": {},
   "outputs": [],
   "source": []
  },
  {
   "cell_type": "code",
   "execution_count": null,
   "id": "88b6a337-ec83-4947-8ccc-6dcb20a980f7",
   "metadata": {},
   "outputs": [],
   "source": []
  },
  {
   "cell_type": "code",
   "execution_count": null,
   "id": "53fbbcfa-7919-45ef-b9b3-8724d9261d13",
   "metadata": {},
   "outputs": [],
   "source": []
  },
  {
   "cell_type": "code",
   "execution_count": null,
   "id": "be8a444e-efbb-440a-a63c-543361251408",
   "metadata": {},
   "outputs": [],
   "source": []
  },
  {
   "cell_type": "code",
   "execution_count": null,
   "id": "87b45c97-0d5b-463f-8488-cec48b81f387",
   "metadata": {},
   "outputs": [],
   "source": []
  },
  {
   "cell_type": "code",
   "execution_count": null,
   "id": "9f74fddc-2ec0-4eb5-9371-27cc92d1fa57",
   "metadata": {},
   "outputs": [],
   "source": []
  },
  {
   "cell_type": "code",
   "execution_count": null,
   "id": "00d06e8d-5f3f-4598-a9df-59a015a57c97",
   "metadata": {},
   "outputs": [],
   "source": []
  },
  {
   "cell_type": "code",
   "execution_count": null,
   "id": "3b55d570-df0f-4545-a85b-d0e8b6de959f",
   "metadata": {},
   "outputs": [],
   "source": []
  },
  {
   "cell_type": "code",
   "execution_count": null,
   "id": "93112431-6397-4964-9874-b27c902b73fe",
   "metadata": {},
   "outputs": [],
   "source": []
  },
  {
   "cell_type": "code",
   "execution_count": null,
   "id": "ff0a5581-8f29-44d9-a354-ffbab5cc3e46",
   "metadata": {},
   "outputs": [],
   "source": []
  },
  {
   "cell_type": "code",
   "execution_count": null,
   "id": "e941cf9e-3b13-4e40-bbb1-800da785f6aa",
   "metadata": {},
   "outputs": [],
   "source": []
  },
  {
   "cell_type": "code",
   "execution_count": null,
   "id": "4716c335-a6cf-43a4-b9e4-0eee72e8e084",
   "metadata": {},
   "outputs": [],
   "source": []
  },
  {
   "cell_type": "code",
   "execution_count": null,
   "id": "edc8afdc-bae9-49cb-a1e7-6070f98e1283",
   "metadata": {},
   "outputs": [],
   "source": []
  },
  {
   "cell_type": "code",
   "execution_count": null,
   "id": "74ba4789-b636-45f8-a1e9-a7b5f409a138",
   "metadata": {},
   "outputs": [],
   "source": []
  },
  {
   "cell_type": "code",
   "execution_count": null,
   "id": "0907b10f-d78f-40ea-a000-4001b4614856",
   "metadata": {},
   "outputs": [],
   "source": []
  },
  {
   "cell_type": "code",
   "execution_count": null,
   "id": "e108a2e1-bd73-46b1-a5cb-8c320fb3701b",
   "metadata": {},
   "outputs": [],
   "source": []
  },
  {
   "cell_type": "code",
   "execution_count": null,
   "id": "f1257691-c67e-40d0-8ce1-ebec2c326116",
   "metadata": {},
   "outputs": [],
   "source": []
  },
  {
   "cell_type": "code",
   "execution_count": null,
   "id": "74c118b7-fe5f-4ad2-a612-de47df12a0ea",
   "metadata": {},
   "outputs": [],
   "source": []
  },
  {
   "cell_type": "code",
   "execution_count": null,
   "id": "160ebe64-a9ab-4eea-aae9-7f773fee3bcb",
   "metadata": {},
   "outputs": [],
   "source": []
  },
  {
   "cell_type": "code",
   "execution_count": null,
   "id": "764919f8-4d3c-491b-ae42-b540452c1e39",
   "metadata": {},
   "outputs": [],
   "source": []
  },
  {
   "cell_type": "code",
   "execution_count": null,
   "id": "d0161322-5351-42ef-8da5-4f986613f942",
   "metadata": {},
   "outputs": [],
   "source": []
  },
  {
   "cell_type": "code",
   "execution_count": null,
   "id": "b910effc-5a0f-4f95-acc9-82376d310e50",
   "metadata": {},
   "outputs": [],
   "source": []
  },
  {
   "cell_type": "code",
   "execution_count": null,
   "id": "e7d6c3df-4e80-49ef-a8a8-686c5c9687f5",
   "metadata": {},
   "outputs": [],
   "source": []
  },
  {
   "cell_type": "code",
   "execution_count": null,
   "id": "c32e5f7d-c9be-473d-8113-904362372797",
   "metadata": {},
   "outputs": [],
   "source": []
  },
  {
   "cell_type": "code",
   "execution_count": null,
   "id": "6ccef1bb-616d-4ce0-9e67-241e4d5b6b52",
   "metadata": {},
   "outputs": [],
   "source": []
  },
  {
   "cell_type": "code",
   "execution_count": null,
   "id": "5de18e3c-3fac-4901-bb71-1cab8f800b8b",
   "metadata": {},
   "outputs": [],
   "source": []
  },
  {
   "cell_type": "code",
   "execution_count": null,
   "id": "5d7259d5-b7e6-48a0-bc8a-d948437ebb41",
   "metadata": {},
   "outputs": [],
   "source": []
  },
  {
   "cell_type": "code",
   "execution_count": null,
   "id": "70e2e5c6-8be2-463c-a1a5-7de8db047545",
   "metadata": {},
   "outputs": [],
   "source": []
  },
  {
   "cell_type": "code",
   "execution_count": null,
   "id": "f00f6b9b-b7bc-4b99-bfbc-ebb66f62557f",
   "metadata": {},
   "outputs": [],
   "source": []
  },
  {
   "cell_type": "code",
   "execution_count": null,
   "id": "c5706b8e-5ae6-4ccf-85c8-b53816523a3f",
   "metadata": {},
   "outputs": [],
   "source": []
  },
  {
   "cell_type": "code",
   "execution_count": null,
   "id": "40bae3e0-93d6-4a3b-8b4b-deb3cc3ef681",
   "metadata": {},
   "outputs": [],
   "source": []
  },
  {
   "cell_type": "code",
   "execution_count": null,
   "id": "2b8463d5-fc01-474d-9f81-ab4916140229",
   "metadata": {},
   "outputs": [],
   "source": []
  },
  {
   "cell_type": "code",
   "execution_count": null,
   "id": "972ced79-e8af-4c9e-9495-97dc8e5d54ef",
   "metadata": {},
   "outputs": [],
   "source": []
  },
  {
   "cell_type": "code",
   "execution_count": null,
   "id": "2e001128-d6c5-4071-930c-b30ab8a90212",
   "metadata": {},
   "outputs": [],
   "source": []
  },
  {
   "cell_type": "code",
   "execution_count": null,
   "id": "af32b2d7-7183-415f-a985-58e811e4bf9b",
   "metadata": {},
   "outputs": [],
   "source": []
  },
  {
   "cell_type": "code",
   "execution_count": null,
   "id": "ee69a197-c1d7-45f9-8da2-8a74b08a675e",
   "metadata": {},
   "outputs": [],
   "source": []
  },
  {
   "cell_type": "code",
   "execution_count": null,
   "id": "ac38fa3d-aefd-41fb-b934-2c6a80fa757d",
   "metadata": {},
   "outputs": [],
   "source": []
  },
  {
   "cell_type": "code",
   "execution_count": null,
   "id": "5bb39d7c-05b6-49bb-a728-5392e0db00c9",
   "metadata": {},
   "outputs": [],
   "source": []
  },
  {
   "cell_type": "code",
   "execution_count": null,
   "id": "6680f588-f8f9-48a1-9c7e-dc0451954ec0",
   "metadata": {},
   "outputs": [],
   "source": []
  },
  {
   "cell_type": "code",
   "execution_count": null,
   "id": "24b97512-bb64-4c0a-a0f5-8de880ce6421",
   "metadata": {},
   "outputs": [],
   "source": []
  },
  {
   "cell_type": "code",
   "execution_count": null,
   "id": "2be2ccb0-e4f0-435c-9e82-055a2f2265c3",
   "metadata": {},
   "outputs": [],
   "source": []
  },
  {
   "cell_type": "code",
   "execution_count": null,
   "id": "71b72169-f533-4c4f-b00c-4593cc892ccd",
   "metadata": {},
   "outputs": [],
   "source": []
  },
  {
   "cell_type": "code",
   "execution_count": null,
   "id": "512a74ec-9faf-44e6-a725-dcb919b75257",
   "metadata": {},
   "outputs": [],
   "source": []
  },
  {
   "cell_type": "code",
   "execution_count": null,
   "id": "306ec866-a28d-4eee-9cc5-108fee2ebaaa",
   "metadata": {},
   "outputs": [],
   "source": []
  },
  {
   "cell_type": "code",
   "execution_count": null,
   "id": "c4d8741e-8da9-4138-ae34-5266d3f67fc4",
   "metadata": {},
   "outputs": [],
   "source": []
  },
  {
   "cell_type": "code",
   "execution_count": null,
   "id": "0fd7c414-ea54-4076-99e0-97b73c5449a0",
   "metadata": {},
   "outputs": [],
   "source": []
  },
  {
   "cell_type": "code",
   "execution_count": null,
   "id": "6801c817-6d08-4d3e-bb3b-43c972ae6416",
   "metadata": {},
   "outputs": [],
   "source": []
  },
  {
   "cell_type": "code",
   "execution_count": null,
   "id": "c964227b-8e3b-400c-8f84-88c2627f1e14",
   "metadata": {},
   "outputs": [],
   "source": []
  },
  {
   "cell_type": "code",
   "execution_count": null,
   "id": "8d4b7e08-b2c1-45be-b658-b88ba3665364",
   "metadata": {},
   "outputs": [],
   "source": []
  },
  {
   "cell_type": "code",
   "execution_count": null,
   "id": "228fede2-fbfb-47c6-a5aa-b91dabcdf4f0",
   "metadata": {},
   "outputs": [],
   "source": []
  },
  {
   "cell_type": "code",
   "execution_count": null,
   "id": "73c6c438-7334-4096-add3-112f6f904372",
   "metadata": {},
   "outputs": [],
   "source": []
  },
  {
   "cell_type": "code",
   "execution_count": null,
   "id": "65ab160d-263c-44f0-b2ce-7f4641028e1a",
   "metadata": {},
   "outputs": [],
   "source": []
  },
  {
   "cell_type": "code",
   "execution_count": null,
   "id": "80c916d4-b2c0-4ba6-aa22-d0261d75316e",
   "metadata": {},
   "outputs": [],
   "source": []
  },
  {
   "cell_type": "code",
   "execution_count": null,
   "id": "672a9507-04c5-4d52-b703-39a5e9d313a1",
   "metadata": {},
   "outputs": [],
   "source": []
  },
  {
   "cell_type": "code",
   "execution_count": null,
   "id": "0affb0d9-4622-448d-bc60-698c1cb03610",
   "metadata": {},
   "outputs": [],
   "source": []
  },
  {
   "cell_type": "code",
   "execution_count": null,
   "id": "59a4781f-9c1f-4047-af2d-71a46ab414eb",
   "metadata": {},
   "outputs": [],
   "source": []
  },
  {
   "cell_type": "code",
   "execution_count": null,
   "id": "ffa96ecb-2e98-483f-90f8-b90dfcfa65c2",
   "metadata": {},
   "outputs": [],
   "source": []
  },
  {
   "cell_type": "code",
   "execution_count": null,
   "id": "7f7b14ae-1eb6-4e86-b4f1-061f7ace8ef7",
   "metadata": {},
   "outputs": [],
   "source": []
  },
  {
   "cell_type": "code",
   "execution_count": null,
   "id": "25be8a4d-0db4-43e8-b539-7c5452be5655",
   "metadata": {},
   "outputs": [],
   "source": []
  },
  {
   "cell_type": "code",
   "execution_count": null,
   "id": "80895f89-edb2-4bb0-89bf-a4683b6f1e22",
   "metadata": {},
   "outputs": [],
   "source": []
  },
  {
   "cell_type": "code",
   "execution_count": null,
   "id": "55bc23bc-5f94-48d8-83c2-8ef4bb87902b",
   "metadata": {},
   "outputs": [],
   "source": []
  },
  {
   "cell_type": "code",
   "execution_count": null,
   "id": "349767ed-f561-4fa9-b43e-a1b54cb43a14",
   "metadata": {},
   "outputs": [],
   "source": []
  },
  {
   "cell_type": "code",
   "execution_count": null,
   "id": "946e2e0d-ae81-412d-b560-448de0264f95",
   "metadata": {},
   "outputs": [],
   "source": []
  },
  {
   "cell_type": "code",
   "execution_count": null,
   "id": "d1367211-add7-4acc-b77c-509c8e5a1687",
   "metadata": {},
   "outputs": [],
   "source": []
  },
  {
   "cell_type": "code",
   "execution_count": null,
   "id": "216b282e-026e-4542-bc4e-36bab2026266",
   "metadata": {},
   "outputs": [],
   "source": []
  },
  {
   "cell_type": "code",
   "execution_count": null,
   "id": "df570d97-1ccd-441c-bf13-b15c7e03b979",
   "metadata": {},
   "outputs": [],
   "source": []
  },
  {
   "cell_type": "code",
   "execution_count": null,
   "id": "075a51f2-3df8-4a7c-ab7a-9ca4ce5b1369",
   "metadata": {},
   "outputs": [],
   "source": []
  },
  {
   "cell_type": "code",
   "execution_count": null,
   "id": "a31f8441-a0c1-4a32-848c-bb2cd4c6f71e",
   "metadata": {},
   "outputs": [],
   "source": []
  },
  {
   "cell_type": "code",
   "execution_count": null,
   "id": "8c16a84c-5e2e-4bce-80c3-a42b1c3f46eb",
   "metadata": {},
   "outputs": [],
   "source": []
  },
  {
   "cell_type": "code",
   "execution_count": null,
   "id": "6261a45a-c6cf-4983-a005-19eb83bccda8",
   "metadata": {},
   "outputs": [],
   "source": []
  },
  {
   "cell_type": "code",
   "execution_count": null,
   "id": "72278e7f-2cd3-4e69-9fa5-40ec17a73d09",
   "metadata": {},
   "outputs": [],
   "source": []
  },
  {
   "cell_type": "code",
   "execution_count": null,
   "id": "9c59a7aa-5bb5-496e-a480-63cb795ab72b",
   "metadata": {},
   "outputs": [],
   "source": []
  },
  {
   "cell_type": "code",
   "execution_count": null,
   "id": "eec6b3fd-e3da-4470-aed4-676a86b5e86f",
   "metadata": {},
   "outputs": [],
   "source": []
  },
  {
   "cell_type": "code",
   "execution_count": null,
   "id": "73063da6-3c75-455f-b071-cdedbed7828a",
   "metadata": {},
   "outputs": [],
   "source": []
  },
  {
   "cell_type": "code",
   "execution_count": null,
   "id": "5dccab49-ca23-4bab-9d61-5333dc89d6a9",
   "metadata": {},
   "outputs": [],
   "source": []
  },
  {
   "cell_type": "code",
   "execution_count": null,
   "id": "cf035f31-0428-4040-8183-18ea3057553d",
   "metadata": {},
   "outputs": [],
   "source": []
  },
  {
   "cell_type": "code",
   "execution_count": null,
   "id": "31faaca2-1f02-49b4-a7f3-60ec3d1b51bd",
   "metadata": {},
   "outputs": [],
   "source": []
  },
  {
   "cell_type": "code",
   "execution_count": null,
   "id": "2f9ed5d1-7d1d-4840-b16d-b0024de23970",
   "metadata": {},
   "outputs": [],
   "source": []
  },
  {
   "cell_type": "code",
   "execution_count": null,
   "id": "c57cce7a-8041-4bd0-a0ee-e5f022377e9d",
   "metadata": {},
   "outputs": [],
   "source": []
  },
  {
   "cell_type": "code",
   "execution_count": null,
   "id": "40720c14-1958-47f3-bd79-800c638bf8b3",
   "metadata": {},
   "outputs": [],
   "source": []
  },
  {
   "cell_type": "code",
   "execution_count": null,
   "id": "0cd5cbed-3f4e-4cce-a556-6d99ed526330",
   "metadata": {},
   "outputs": [],
   "source": []
  },
  {
   "cell_type": "code",
   "execution_count": null,
   "id": "04e31921-7050-43d8-9543-8ded65872060",
   "metadata": {},
   "outputs": [],
   "source": []
  },
  {
   "cell_type": "code",
   "execution_count": null,
   "id": "98135cd8-0df1-40ca-b410-8229864621a9",
   "metadata": {},
   "outputs": [],
   "source": []
  },
  {
   "cell_type": "code",
   "execution_count": null,
   "id": "6fcf2658-b1aa-468f-9950-6ea8834288b3",
   "metadata": {},
   "outputs": [],
   "source": []
  },
  {
   "cell_type": "code",
   "execution_count": null,
   "id": "fa6de927-d593-44df-aef1-cf10d6fc28b0",
   "metadata": {},
   "outputs": [],
   "source": []
  },
  {
   "cell_type": "code",
   "execution_count": null,
   "id": "07e6d10c-9e33-4e6a-ac27-d24be4007280",
   "metadata": {},
   "outputs": [],
   "source": []
  },
  {
   "cell_type": "code",
   "execution_count": null,
   "id": "3ac253ed-b529-4861-8a9f-9983dfe39043",
   "metadata": {},
   "outputs": [],
   "source": []
  },
  {
   "cell_type": "code",
   "execution_count": null,
   "id": "edd5414e-2b80-4eff-b485-89ccddd85ac9",
   "metadata": {},
   "outputs": [],
   "source": []
  },
  {
   "cell_type": "code",
   "execution_count": null,
   "id": "6439ebb5-4599-4d09-9c3d-3ee8f6dae0e1",
   "metadata": {},
   "outputs": [],
   "source": []
  },
  {
   "cell_type": "code",
   "execution_count": null,
   "id": "c354e92d-d234-48dd-a9f5-e3881f2086cb",
   "metadata": {},
   "outputs": [],
   "source": []
  },
  {
   "cell_type": "code",
   "execution_count": null,
   "id": "ae10375e-88a8-4430-b145-74b60acd6ace",
   "metadata": {},
   "outputs": [],
   "source": []
  },
  {
   "cell_type": "code",
   "execution_count": null,
   "id": "c5683dc3-bcdd-4fd9-b0e8-2c789733a3e5",
   "metadata": {},
   "outputs": [],
   "source": []
  },
  {
   "cell_type": "code",
   "execution_count": null,
   "id": "9a28daba-e96f-40a6-87d5-aacf37d6e614",
   "metadata": {},
   "outputs": [],
   "source": []
  },
  {
   "cell_type": "code",
   "execution_count": null,
   "id": "0585e12e-a7c0-43af-955b-8b7fad8e66e5",
   "metadata": {},
   "outputs": [],
   "source": []
  },
  {
   "cell_type": "code",
   "execution_count": null,
   "id": "3e055b82-d771-48e3-befa-87d8bd8e23c0",
   "metadata": {},
   "outputs": [],
   "source": []
  },
  {
   "cell_type": "code",
   "execution_count": null,
   "id": "85e94fd2-f21a-4b58-950d-b939bfe768b7",
   "metadata": {},
   "outputs": [],
   "source": []
  },
  {
   "cell_type": "code",
   "execution_count": null,
   "id": "859d77fb-9395-4c17-815e-455228605d5e",
   "metadata": {},
   "outputs": [],
   "source": []
  },
  {
   "cell_type": "code",
   "execution_count": null,
   "id": "e537689c-943c-452d-b28c-973dbf64c88f",
   "metadata": {},
   "outputs": [],
   "source": []
  },
  {
   "cell_type": "code",
   "execution_count": null,
   "id": "c7d068a6-5534-4c6c-a94f-a6b61c8108e0",
   "metadata": {},
   "outputs": [],
   "source": []
  },
  {
   "cell_type": "code",
   "execution_count": null,
   "id": "ea1e6e35-49e5-4664-807f-62589a9a8d0e",
   "metadata": {},
   "outputs": [],
   "source": []
  },
  {
   "cell_type": "code",
   "execution_count": null,
   "id": "ad31367c-3152-4fd4-82d3-745088a2b15d",
   "metadata": {},
   "outputs": [],
   "source": []
  },
  {
   "cell_type": "code",
   "execution_count": null,
   "id": "78d7a866-3690-41b0-af88-0f4458983fbf",
   "metadata": {},
   "outputs": [],
   "source": []
  },
  {
   "cell_type": "code",
   "execution_count": null,
   "id": "7fb4bb28-b3ce-4c71-9891-8e42de4c9ff2",
   "metadata": {},
   "outputs": [],
   "source": []
  },
  {
   "cell_type": "code",
   "execution_count": null,
   "id": "7af1899b-1954-45cf-b32d-2efbfc54ab41",
   "metadata": {},
   "outputs": [],
   "source": []
  },
  {
   "cell_type": "code",
   "execution_count": null,
   "id": "09bc14e2-343e-4d2c-b679-6e17a0cb5820",
   "metadata": {},
   "outputs": [],
   "source": []
  },
  {
   "cell_type": "code",
   "execution_count": null,
   "id": "04906de9-52ab-40f8-ab79-d28e11981f78",
   "metadata": {},
   "outputs": [],
   "source": []
  },
  {
   "cell_type": "code",
   "execution_count": null,
   "id": "63e1756c-dc11-475a-b13d-df10d4dda1c9",
   "metadata": {},
   "outputs": [],
   "source": []
  },
  {
   "cell_type": "code",
   "execution_count": null,
   "id": "762331be-333b-47e9-956e-d4bd2d1a5158",
   "metadata": {},
   "outputs": [],
   "source": []
  },
  {
   "cell_type": "code",
   "execution_count": null,
   "id": "7f3488e8-7baa-4dae-87ba-00bdd8e1d1db",
   "metadata": {},
   "outputs": [],
   "source": []
  },
  {
   "cell_type": "code",
   "execution_count": null,
   "id": "3dce1bbd-eb86-47f2-9023-99dbe0e026cc",
   "metadata": {},
   "outputs": [],
   "source": []
  },
  {
   "cell_type": "code",
   "execution_count": null,
   "id": "cecb1ce7-d2b8-4e9c-94a7-dedaa196d6de",
   "metadata": {},
   "outputs": [],
   "source": []
  },
  {
   "cell_type": "code",
   "execution_count": null,
   "id": "66d6539b-7de8-4ee7-a939-ba2baf84272a",
   "metadata": {},
   "outputs": [],
   "source": []
  },
  {
   "cell_type": "code",
   "execution_count": null,
   "id": "f383c47a-afef-4207-98b3-73a8f5c5f0fb",
   "metadata": {},
   "outputs": [],
   "source": []
  },
  {
   "cell_type": "code",
   "execution_count": null,
   "id": "090ad56b-c7eb-407f-89bb-5dd2b5e854a9",
   "metadata": {},
   "outputs": [],
   "source": []
  },
  {
   "cell_type": "code",
   "execution_count": null,
   "id": "172f0010-6816-4c54-ba3d-ad82301747f9",
   "metadata": {},
   "outputs": [],
   "source": []
  },
  {
   "cell_type": "code",
   "execution_count": null,
   "id": "1b65352a-fe50-4a1e-93e3-003b0aa6e159",
   "metadata": {},
   "outputs": [],
   "source": []
  },
  {
   "cell_type": "code",
   "execution_count": null,
   "id": "9a6eedd5-f734-4492-893a-276c30017e33",
   "metadata": {},
   "outputs": [],
   "source": []
  },
  {
   "cell_type": "code",
   "execution_count": null,
   "id": "b897d65f-3358-44d3-ade4-66a79f5a230e",
   "metadata": {},
   "outputs": [],
   "source": []
  },
  {
   "cell_type": "code",
   "execution_count": null,
   "id": "d30dfd85-45fb-4892-89d7-6dc83874cac5",
   "metadata": {},
   "outputs": [],
   "source": []
  },
  {
   "cell_type": "code",
   "execution_count": null,
   "id": "0eba8871-21c3-4a1c-8b6a-8a5c4fe2e2a5",
   "metadata": {},
   "outputs": [],
   "source": []
  },
  {
   "cell_type": "code",
   "execution_count": null,
   "id": "9373aa64-7cb8-48a8-aed1-c873e38448b3",
   "metadata": {},
   "outputs": [],
   "source": []
  },
  {
   "cell_type": "code",
   "execution_count": null,
   "id": "dbd087cc-76bc-4731-a971-1fc4403146e1",
   "metadata": {},
   "outputs": [],
   "source": []
  },
  {
   "cell_type": "code",
   "execution_count": null,
   "id": "f8ecb3da-59e3-4f7e-b2f5-3d373d64c0a0",
   "metadata": {},
   "outputs": [],
   "source": []
  },
  {
   "cell_type": "code",
   "execution_count": null,
   "id": "dd7962cc-2fba-4793-ba93-8309889333cb",
   "metadata": {},
   "outputs": [],
   "source": []
  },
  {
   "cell_type": "code",
   "execution_count": null,
   "id": "811b6d2c-d57a-4b7c-b7fd-140fcd5dc43a",
   "metadata": {},
   "outputs": [],
   "source": []
  },
  {
   "cell_type": "code",
   "execution_count": null,
   "id": "44d072ad-581b-4c62-94a2-6e37b3dde9ca",
   "metadata": {},
   "outputs": [],
   "source": []
  },
  {
   "cell_type": "code",
   "execution_count": null,
   "id": "89615246-cdc3-4547-9004-b53d9a2a9daf",
   "metadata": {},
   "outputs": [],
   "source": []
  },
  {
   "cell_type": "code",
   "execution_count": null,
   "id": "a3e56ca4-d95f-4143-95bc-732e69890ee0",
   "metadata": {},
   "outputs": [],
   "source": []
  },
  {
   "cell_type": "code",
   "execution_count": null,
   "id": "53a0626a-8d9b-48e6-85cf-683c472e8fb7",
   "metadata": {},
   "outputs": [],
   "source": []
  },
  {
   "cell_type": "code",
   "execution_count": null,
   "id": "692d9d6a-aac8-45da-ab77-48f712bf6205",
   "metadata": {},
   "outputs": [],
   "source": []
  },
  {
   "cell_type": "code",
   "execution_count": null,
   "id": "f174cc3e-7576-457c-a320-035b9f31d1bf",
   "metadata": {},
   "outputs": [],
   "source": []
  },
  {
   "cell_type": "code",
   "execution_count": null,
   "id": "d45a93c5-7774-4ccd-b103-7d6974b0c03a",
   "metadata": {},
   "outputs": [],
   "source": []
  },
  {
   "cell_type": "code",
   "execution_count": null,
   "id": "680ee1b0-3bcd-4860-a211-ed886892adad",
   "metadata": {},
   "outputs": [],
   "source": []
  },
  {
   "cell_type": "code",
   "execution_count": null,
   "id": "66d0dfce-ab1d-460d-a7db-da8117994f59",
   "metadata": {},
   "outputs": [],
   "source": []
  },
  {
   "cell_type": "code",
   "execution_count": null,
   "id": "040f92cd-77f4-4dcf-ac5a-e901505c4488",
   "metadata": {},
   "outputs": [],
   "source": []
  }
 ],
 "metadata": {
  "kernelspec": {
   "display_name": "Python 3 (ipykernel)",
   "language": "python",
   "name": "python3"
  },
  "language_info": {
   "codemirror_mode": {
    "name": "ipython",
    "version": 3
   },
   "file_extension": ".py",
   "mimetype": "text/x-python",
   "name": "python",
   "nbconvert_exporter": "python",
   "pygments_lexer": "ipython3",
   "version": "3.12.4"
  }
 },
 "nbformat": 4,
 "nbformat_minor": 5
}
